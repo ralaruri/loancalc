{
  "cells": [
    {
      "cell_type": "code",
      "source": [
        "import time\n",
        "from datetime import date\n",
        "from datetime import datetime\n",
        "\n",
        "#1. Define the dates of disbursment \n",
        "'''\n",
        "dates of disbursment of a student loan are typically 2 times a year \n",
        "for avg college student. Add dates as needed for years in college, and \n",
        "amount of loans.\n",
        "today's date is important also in order to calculate the growing intrest as\n",
        "of today.\n",
        "\n",
        "'''\n",
        "today = date.today()\n",
        "date1 = \"2016-08-19\"\n",
        "date2 = \"2017-01-13\"\n",
        "date3 = \"2017-08-18\"\n",
        "date4 = \"2018-01-12\"\n",
        "#date5 = \"2018-09-10\"\n",
        "\n\n",
        "#2. add dates to a list and create an empty list\n",
        "orginaldates = [date1, date2, date3, date4]\n",
        "finaldays = []\n",
        "\n",
        "#3. Transform dates into intergers of days, for these specfic loans the growth is daily\n",
        "#So it depends how you need to split the loan in order to understand the intrest loan\n",
        "#the equation is divied by 365 to get a float number for later equation. \n",
        "#so 700 days / 365 would equal 1.91 years\n",
        "for ogdate in orginaldates:\n",
        "    converteddate = datetime.strptime(ogdate, \"%Y-%m-%d\").date()\n",
        "    days = (today - converteddate).days / 365\n",
        "    finaldays.append(days)\n",
        "#print(finaldays) <--- This is just a test to confrim you are getting the correct values\n",
        "\n\n",
        "prinicipal = [14500, 19350]\n",
        "prinicipalhalf = [7250, 9675]\n",
        "rates = [5.31, 6.00]\n",
        "newrates = [] \n",
        "\n",
        "for i in rates:\n",
        "    decrates = i / 100\n",
        "    newrates.append(decrates)\n",
        "#print(newrates) <--- This is just a test to confrim you are getting the correct values\n",
        "\n",
        "finalloan1 = []\n",
        "for i in finaldays[0:2]:\n",
        "    for j in prinicipalhalf[0:1]:\n",
        "        for k in newrates[0:1]:\n",
        "            loanvalues = j * (1+(k * i))\n",
        "    print(loanvalues)\n",
        "    finalloan1.append(loanvalues) \n",
        "       \n",
        "finalloan2 = []\n",
        "for i in finaldays[2:4]:\n",
        "    for j in prinicipalhalf[1:2]:\n",
        "        for k in newrates[1:2]:\n",
        "            loanvalues = j * (1+(k * i))\n",
        "    print(loanvalues)\n",
        "    finalloan2.append(loanvalues) \n",
        "\n",
        "sum1 = sum(finalloan1)\n",
        "sum2 = sum(finalloan2)\n",
        "\n",
        "intrestgained1 = sum1 - prinicipalhalf[0]*2\n",
        "intrestgained2 = sum2 - prinicipalhalf[1]*2\n",
        "\n",
        "print(intrestgained1)\n",
        "print(intrestgained2)\n",
        "\n"
      ],
      "outputs": [
        {
          "output_type": "stream",
          "name": "stdout",
          "text": [
            "8047.372876712329\n",
            "7892.328150684931\n",
            "10298.44109589041\n",
            "10064.650684931506\n",
            "1439.7010273972592\n",
            "1013.0917808219165\n"
          ]
        }
      ],
      "execution_count": 2,
      "metadata": {
        "collapsed": false,
        "outputHidden": false,
        "inputHidden": false
      }
    },
    {
      "cell_type": "code",
      "source": [],
      "outputs": [
        {
          "output_type": "stream",
          "name": "stdout",
          "text": [
            "0.0027397260273972603\n"
          ]
        }
      ],
      "execution_count": 73,
      "metadata": {
        "collapsed": false,
        "outputHidden": false,
        "inputHidden": false
      }
    },
    {
      "cell_type": "code",
      "source": [],
      "outputs": [],
      "execution_count": null,
      "metadata": {
        "collapsed": false,
        "outputHidden": false,
        "inputHidden": false
      }
    }
  ],
  "metadata": {
    "kernel_info": {
      "name": "python3"
    },
    "language_info": {
      "name": "python",
      "version": "3.6.5",
      "mimetype": "text/x-python",
      "codemirror_mode": {
        "name": "ipython",
        "version": 3
      },
      "pygments_lexer": "ipython3",
      "nbconvert_exporter": "python",
      "file_extension": ".py"
    },
    "kernelspec": {
      "name": "python3",
      "language": "python",
      "display_name": "Python 3"
    },
    "nteract": {
      "version": "0.11.7"
    }
  },
  "nbformat": 4,
  "nbformat_minor": 4
}